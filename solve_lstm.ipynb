{
 "cells": [
  {
   "cell_type": "code",
   "execution_count": 10,
   "metadata": {},
   "outputs": [
    {
     "name": "stdout",
     "output_type": "stream",
     "text": [
      "Normal: 304\n",
      "Abnormal: 600\n",
      "Val all: 630 630\n",
      "(1, 256, 256, 256, 1) 0.0906170941889286 [0]\n",
      "(1, 256, 256, 256, 1) 0.10050584422424436 [1]\n",
      "(1, 256, 256, 256, 1) 0.0834337396081537 [0]\n",
      "(1, 256, 256, 256, 1) 0.08913979539647698 [1]\n",
      "(1, 256, 256, 256, 1) 0.10763870715163648 [0]\n",
      "(1, 256, 256, 256, 1) 0.09354960243217647 [1]\n",
      "(1, 256, 256, 256, 1) 0.09614670975133777 [1]\n",
      "(1, 256, 256, 256, 1) 0.0710067474283278 [0]\n",
      "(1, 256, 256, 256, 1) 0.10795170697383583 [1]\n",
      "(1, 256, 256, 256, 1) 0.08527430682443082 [1]\n",
      "(1, 256, 256, 256, 1) 0.09115610551089048 [1]\n",
      "(1, 256, 256, 256, 1) 0.09479357046075165 [0]\n",
      "(1, 256, 256, 256, 1) 0.08650769479572773 [1]\n",
      "(1, 256, 256, 256, 1) 0.10583823500201106 [1]\n",
      "(1, 256, 256, 256, 1) 0.08447938854806125 [0]\n",
      "(1, 256, 256, 256, 1) 0.0962220320943743 [0]\n",
      "(1, 256, 256, 256, 1) 0.08822379354387522 [0]\n",
      "(1, 256, 256, 256, 1) 0.08793994062580168 [1]\n",
      "(1, 256, 256, 256, 1) 0.09873163094744086 [0]\n",
      "(1, 256, 256, 256, 1) 0.1255127142649144 [1]\n",
      "(1, 256, 256, 256, 1) 0.0990123595111072 [0]\n",
      "(1, 256, 256, 256, 1) 0.12254395103082061 [0]\n",
      "(1, 256, 256, 256, 1) 0.11003577732481062 [0]\n",
      "(1, 256, 256, 256, 1) 0.08389570959843695 [1]\n",
      "(1, 256, 256, 256, 1) 0.08067122986540198 [1]\n",
      "(1, 256, 256, 256, 1) 0.0874163347762078 [1]\n",
      "(1, 256, 256, 256, 1) 0.10330994450487196 [1]\n",
      "(1, 256, 256, 256, 1) 0.0891804420389235 [1]\n",
      "(1, 256, 256, 256, 1) 0.09352830704301596 [0]\n",
      "(1, 256, 256, 256, 1) 0.07846501306630671 [0]\n"
     ]
    }
   ],
   "source": [
    "import sys\n",
    "sys.path.insert(0, 'lib')\n",
   
    "\n",
    "loader = DataLoader('yourdataset/*.npy',\n",
    "                  'yourdataset/*.npy', labelNames)\n",
    "\n",
    "from keras.layers import TimeDistributed\n",
    "x = []\n",
    "y = []\n",
    "for step in range(30):\n",
    "    trX, trY = loader.NextTrain()\n",
    "    x.append(trX)\n",
    "    y.append(trY)\n",
    "    print(trX.shape,trX.mean(),trY)\n",
    "x = np.array(x).reshape([-1,256,256,256])\n",
    "y = np.array(y).reshape([-1])"
   ]
  },
  {
   "cell_type": "code",
   "execution_count": 13,
   "metadata": {},
   "outputs": [
    {
     "name": "stdout",
     "output_type": "stream",
     "text": [
      "_________________________________________________________________\n",
      "Layer (type)                 Output Shape              Param #   \n",
      "=================================================================\n",
      "input_3 (InputLayer)         (None, 256, 256, 256, 1)  0         \n",
      "_________________________________________________________________\n",
      "time_distributed_2 (TimeDist (None, 256, 4096)         5888      \n",
      "_________________________________________________________________\n",
      "lstm_4 (LSTM)                (None, 256)               4457472   \n",
      "_________________________________________________________________\n",
      "dense_4 (Dense)              (None, 2)                 514       \n",
      "=================================================================\n",
      "Total params: 4,463,874\n",
      "Trainable params: 4,463,874\n",
      "Non-trainable params: 0\n",
      "_________________________________________________________________\n"
     ]
    }
   ],
   "source": [
    "\n",
    "from keras.layers import Conv2D, MaxPooling2D, Flatten\n",
    "from keras.layers import Input, LSTM, Embedding, Dense, TimeDistributed\n",
    "from keras.models import Model, Sequential\n",
    "\n",
    "# First, let's define a vision model using a Sequential model.\n",
    "# This model will encode an image into a vector.\n",
    "vision_model = Sequential()\n",
    "vision_model.add(Conv2D(8, (3, 3), activation='relu', padding='same', input_shape=(256,256,1)))\n",
    "#vision_model.add(Conv2D(8, (3, 3), activation='relu'))\n",
    "vision_model.add(MaxPooling2D((2, 2)))\n",
    "vision_model.add(Conv2D(16, (3, 3), activation='relu', padding='same'))\n",
    "#vision_model.add(Conv2D(16, (3, 3), activation='relu'))\n",
    "vision_model.add(MaxPooling2D((2, 2)))\n",
    "vision_model.add(Conv2D(16, (3, 3), activation='relu', padding='same'))\n",
    "#vision_model.add(Conv2D(16, (3, 3), activation='relu'))\n",
    "#vision_model.add(Conv2D(16, (3, 3), activation='relu'))\n",
    "vision_model.add(MaxPooling2D((2, 2)))\n",
    "vision_model.add(Conv2D(16, (3, 3), activation='relu', padding='same'))\n",
    "#vision_model.add(Conv2D(16, (3, 3), activation='relu'))\n",
    "#vision_model.add(Conv2D(16, (3, 3), activation='relu'))\n",
    "vision_model.add(MaxPooling2D((2, 2)))\n",
    "vision_model.add(Flatten())\n",
    "# This is our video encoded via the previously trained vision_model (weights are reused)\n",
    "video_input = Input(shape=(256, 256, 256,1))\n",
    "encoded_frame_sequence = TimeDistributed(vision_model)(video_input)  # the output will be a sequence of vectors\n",
    "encoded_video = LSTM(256)(encoded_frame_sequence)  # the output will be a vector\n",
    "\n",
    "output = Dense(2, activation='softmax')(encoded_video)\n",
    "model = Model(inputs=video_input, outputs=output)\n",
    "model.summary()"
   ]
  },
  {
   "cell_type": "code",
   "execution_count": null,
   "metadata": {},
   "outputs": [
    {
     "name": "stdout",
     "output_type": "stream",
     "text": [
      "(30, 256, 256, 256, 1) (30,)\n",
      "Epoch 1/1000\n",
      "30/30 [==============================] - 64s 2s/step - loss: 0.8227 - acc: 0.5667\n",
      "Epoch 2/1000\n",
      "30/30 [==============================] - 57s 2s/step - loss: 0.4754 - acc: 0.8667\n",
      "Epoch 3/1000\n",
      "30/30 [==============================] - 49s 2s/step - loss: 0.5255 - acc: 0.6667\n",
      "Epoch 4/1000\n",
      "25/30 [========================>.....] - ETA: 8s - loss: 0.5489 - acc: 0.6800 "
     ]
    }
   ],
   "source": [
    "\n",
    "print(x.shape, y.shape)\n",
    "x = x.reshape([30,256,256,256,1])\n",
    "model.compile(optimizer='rmsprop', loss='sparse_categorical_crossentropy', metrics=['accuracy'])\n",
    "model.fit(x, y, batch_size=1,epochs=1000)"
   ]
  }
 ],
 "metadata": {
  "kernelspec": {
   "display_name": "Python 3",
   "language": "python",
   "name": "python3"
  },
  "language_info": {
   "codemirror_mode": {
    "name": "ipython",
    "version": 3
   },
   "file_extension": ".py",
   "mimetype": "text/x-python",
   "name": "python",
   "nbconvert_exporter": "python",
   "pygments_lexer": "ipython3",
   "version": "3.6.5"
  }
 },
 "nbformat": 4,
 "nbformat_minor": 2
}
